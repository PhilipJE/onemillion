{
 "cells": [
  {
   "cell_type": "code",
   "execution_count": 3,
   "id": "6ef83b60-3e7a-4789-8455-057c2a8a8896",
   "metadata": {},
   "outputs": [],
   "source": [
    "# Importing necessary packages\n",
    "\n",
    "import numpy as np # linear algebra\n",
    "import pandas as pd # data processing, CSV file I/O (e.g. pd.read_csv)\n",
    "\n",
    "import json\n",
    "\n",
    "import pyspark\n",
    "from pyspark import SparkConf, SparkContext\n",
    "from pyspark.sql import SparkSession, SQLContext\n",
    "from pyspark.sql.types import *\n",
    "from pyspark.sql.functions import *"
   ]
  },
  {
   "cell_type": "code",
   "execution_count": 4,
   "id": "4dca880e-2810-4ca6-8ce7-b834af238d38",
   "metadata": {},
   "outputs": [
    {
     "name": "stderr",
     "output_type": "stream",
     "text": [
      "Setting default log level to \"WARN\".\n",
      "To adjust logging level use sc.setLogLevel(newLevel). For SparkR, use setLogLevel(newLevel).\n",
      "25/03/15 18:55:46 WARN NativeCodeLoader: Unable to load native-hadoop library for your platform... using builtin-java classes where applicable\n",
      "/home/ubuntu/.local/lib/python3.10/site-packages/pyspark/sql/context.py:113: FutureWarning: Deprecated in 3.0.0. Use SparkSession.builder.getOrCreate() instead.\n",
      "  warnings.warn(\n"
     ]
    }
   ],
   "source": [
    "spark_session = SparkSession.builder\\\n",
    "        .master(\"spark://192.168.2.156:7077\") \\\n",
    "        .appName(\"Group 6 project\")\\\n",
    "        .config(\"spark.dynamicAllocation.enabled\", True)\\\n",
    "        .config(\"spark.dynamicAllocation.shuffleTracking.enabled\",True)\\\n",
    "        .config(\"spark.shuffle.service.enabled\", False)\\\n",
    "        .config(\"spark.dynamicAllocation.executorIdleTimeout\",\"30s\")\\\n",
    "        .config(\"spark.executor.cores\", 16)\\\n",
    "        .config(\"spark.cores.max\", 64)\\\n",
    "        .config(\"spark.driver.port\",9999)\\\n",
    "        .config(\"spark.blockManager.port\",10005)\\\n",
    "        .config(\"spark.hadoop.fs.defaultFS\", \"hdfs://192.168.2.156:9000\")\\\n",
    "        .getOrCreate()\n",
    "\n",
    "sqlContext = SQLContext(spark_session.sparkContext)\n",
    "spark_session.sparkContext.setLogLevel(\"ERROR\")"
   ]
  },
  {
   "cell_type": "code",
   "execution_count": 5,
   "id": "7ea49151-abf3-41fa-a6d1-4972ba654240",
   "metadata": {},
   "outputs": [
    {
     "name": "stderr",
     "output_type": "stream",
     "text": [
      "                                                                                "
     ]
    }
   ],
   "source": [
    "# Load JSON as a Spark DataFrame\n",
    "df = spark_session.read.json(\"hdfs://192.168.2.156:9000/data/reddit/corpus-webis-tldr-17.json\")"
   ]
  },
  {
   "cell_type": "code",
   "execution_count": null,
   "id": "47315dc9-b4bf-4b11-8cb2-0fcde52c1665",
   "metadata": {},
   "outputs": [],
   "source": [
    "df.show() #Works!"
   ]
  },
  {
   "cell_type": "markdown",
   "id": "2f217d52-99ac-4f56-ab89-7352a5fec993",
   "metadata": {},
   "source": [
    "# Task 1: Reading level in subreddits\n",
    "First, we analyse the language level using Flesch–Kincaid grade level."
   ]
  },
  {
   "cell_type": "code",
   "execution_count": 6,
   "id": "a879328a-533c-49c3-8df8-ba297548e368",
   "metadata": {},
   "outputs": [
    {
     "name": "stderr",
     "output_type": "stream",
     "text": [
      "[Stage 2:======================================================>(146 + 1) / 147]"
     ]
    },
    {
     "name": "stdout",
     "output_type": "stream",
     "text": [
      "The length is 3848330\n"
     ]
    },
    {
     "name": "stderr",
     "output_type": "stream",
     "text": [
      "                                                                                "
     ]
    }
   ],
   "source": [
    "# Making a new df for analyzing the reading level\n",
    "\n",
    "# Preprocessing\n",
    "\n",
    "# Splitting sentences\n",
    "df_spell = df.select(\"subreddit\", split(df[\"content\"], r'[.!?]').alias(\"content_split\"))\n",
    "\n",
    "# Splitting words, removing punctuation and empty strings\n",
    "df_words = df_spell.withColumn(\"content_split\", expr(\"\"\"transform(content_split, x -> filter(transform(split(x, ' '), word -> trim(regexp_replace(regexp_replace(word, '[\\\\n]', ''), '[,\\\\.\\\\!\\\\?:\\\\*\\\\(\\\\)]', ''))), word -> word != ''))\"\"\"))\n",
    "\n",
    "df_words = df_words.filter(size(df_words[\"content_split\"]) > 0)  # Remove empty rows\n",
    "\n",
    "df_words.first()\n",
    "print(f\"The length is {df_words.count()}\")"
   ]
  },
  {
   "cell_type": "code",
   "execution_count": 11,
   "id": "1f4da8b9-0e71-42f1-b50f-8a64d14ce981",
   "metadata": {},
   "outputs": [
    {
     "name": "stdout",
     "output_type": "stream",
     "text": [
      "+---------------------+------------------+\n",
      "|subreddit            |reading_level     |\n",
      "+---------------------+------------------+\n",
      "|math                 |7.163333333333334 |\n",
      "|funny                |8.155000000000005 |\n",
      "|Borderlands          |6.973302325581397 |\n",
      "|gamingpc             |5.933965517241379 |\n",
      "|Diablo               |7.090000000000003 |\n",
      "|RedditLaqueristas    |5.076363636363638 |\n",
      "|apple                |0                 |\n",
      "|apple                |6.8530126582278506|\n",
      "|RedditFilmsProduction|5.388242753623189 |\n",
      "|AbandonedPorn        |2.878922670191674 |\n",
      "|atheism              |4.383823529411767 |\n",
      "|quotes               |2.4700000000000024|\n",
      "|AskReddit            |6.780000000000001 |\n",
      "|personalfinance      |6.614189189189187 |\n",
      "|Animals              |2.3121403508771934|\n",
      "|leagueoflegends      |3.833307240704503 |\n",
      "|AskReddit            |6.014000000000003 |\n",
      "|videos               |6.571069725187371 |\n",
      "|trees                |11.169411764705881|\n",
      "|Games                |8.931724137931035 |\n",
      "+---------------------+------------------+\n",
      "only showing top 20 rows\n",
      "\n"
     ]
    },
    {
     "name": "stderr",
     "output_type": "stream",
     "text": [
      "                                                                                "
     ]
    }
   ],
   "source": [
    "# Define the syllable count function\n",
    "def syllable_count(word):\n",
    "    # If the word is not alphabetic, return 0 (e.g., for numbers or symbols)\n",
    "    if not word.isalpha():\n",
    "        return 0\n",
    "    \n",
    "    word = word.lower()  # Ensure the word is in lowercase\n",
    "    count = 0\n",
    "    vowels = \"aeiou\"\n",
    "    \n",
    "    # Check the first letter\n",
    "    if word[0] in vowels:\n",
    "        count += 1\n",
    "    \n",
    "    # Count syllables in the rest of the word\n",
    "    for index in range(1, len(word)):\n",
    "        if word[index] in vowels and word[index - 1] not in vowels:\n",
    "            count += 1\n",
    "    \n",
    "    # Special case: Subtract 1 if the word ends with 'e' (unless 'e' is preceded by a vowel)\n",
    "    if word.endswith(\"e\") and (len(word) > 1 and word[-2] not in vowels):\n",
    "        count -= 1\n",
    "    \n",
    "    # Ensure that a word has at least one syllable\n",
    "    if count == 0:\n",
    "        count += 1\n",
    "    \n",
    "    # Limit reasonable syllable count (this can be adjusted based on context)\n",
    "    if count < 10:  # Reasonable cap for most English words\n",
    "        return count\n",
    "    else:\n",
    "        return 1\n",
    "\n",
    "# Define the function to calculate the reading level (Flesch-Kincaid)\n",
    "def reading_level(list_of_sentences):\n",
    "    # Flatten the list of lists into a single list of words\n",
    "\n",
    "    total_words = 0\n",
    "    total_syllables = 0\n",
    "    total_sentences = 0  # Since each row represents one sentence (as split by punctuation)\n",
    "\n",
    "    # Iterate over each word in the flattened list and calculate total words and syllables\n",
    "    for sentence in list_of_sentences:\n",
    "        \n",
    "        words_in_sentence = 0\n",
    "        syllables_in_sentence = 0\n",
    "        \n",
    "        # Iterate over each word in the sentence\n",
    "        for word in sentence:\n",
    "            # Skip empty strings or unwanted characters (e.g., newlines)\n",
    "            word = word.strip(\",. !?:*()[]\")\n",
    "            if word.isalpha():  # Ensure the word is alphabetic\n",
    "                words_in_sentence += 1  # Increment word count\n",
    "                syllables_in_sentence += syllable_count(word)  # Add syllables for the word\n",
    "                \n",
    "        if words_in_sentence > 0 and words_in_sentence < 35: # Only add reasonable values\n",
    "            total_words += words_in_sentence\n",
    "            total_syllables += syllables_in_sentence\n",
    "            total_sentences += 1\n",
    "\n",
    "    # Avoid division by zero\n",
    "    if total_words == 0 or total_sentences == 0:\n",
    "        return 0\n",
    "\n",
    "    # Calculate the Flesch-Kincaid readability index with the formula:\n",
    "    # Reading Level = 0.39 * (total_words / total_sentences) + 11.8 * (total_syllables / total_words) - 15.59\n",
    "    level = 0.39*(total_words / total_sentences) + 11.8*(total_syllables / total_words) - 15.59\n",
    "    if level < -3.5:\n",
    "        raise ValueError(f\"Level too low ({level}). Total words: {total_words}, Total sentences: {total_sentences}, Total syllables: {total_syllables}\")\n",
    "    else:\n",
    "        return level\n",
    "\n",
    "# # Define the UDF for reading level calculation\n",
    "# def reading_level_udf(sentence_list):\n",
    "#     return float(reading_level(sentence_list))\n",
    "\n",
    "# Register the UDF\n",
    "udf_reading_level = udf(lambda sentence_list: reading_level(sentence_list))\n",
    "\n",
    "# Apply the UDF to calculate the reading level for each row\n",
    "df_with_reading_level = df_words.withColumn(\"reading_level\", udf_reading_level(\"content_split\"))\n",
    "\n",
    "# Show the result\n",
    "df_with_reading_level.select(\"subreddit\", \"reading_level\").show(truncate=False)"
   ]
  },
  {
   "cell_type": "code",
   "execution_count": 18,
   "id": "2189d546-24d0-4070-9807-364bcbb80822",
   "metadata": {},
   "outputs": [
    {
     "name": "stderr",
     "output_type": "stream",
     "text": [
      "[Stage 17:>                                                         (0 + 1) / 1]"
     ]
    },
    {
     "name": "stdout",
     "output_type": "stream",
     "text": [
      "+--------------------+--------------------+------------------+\n",
      "|           subreddit|       content_split|     reading_level|\n",
      "+--------------------+--------------------+------------------+\n",
      "|                math|[[I, think, it, s...| 7.163333333333334|\n",
      "|               funny|[[Art, is, about,...| 8.155000000000005|\n",
      "|         Borderlands|[[Ask, me, what, ...| 6.973302325581397|\n",
      "|            gamingpc|[[In, Mechwarrior...| 5.933965517241379|\n",
      "|              Diablo|[[You, are, talki...| 7.090000000000003|\n",
      "|   RedditLaqueristas|[[All, but, one, ...| 5.076363636363638|\n",
      "|               apple|[[I, could, give,...|                 0|\n",
      "|               apple|[[So, you're, say...|6.8530126582278506|\n",
      "|RedditFilmsProduc...|[[I, love, this, ...| 5.388242753623189|\n",
      "|       AbandonedPorn|[[Theres, an, ent...| 2.878922670191674|\n",
      "|             atheism|[[FALSE], [Eviden...| 4.383823529411767|\n",
      "|              quotes|[[If, the, number...|2.4700000000000024|\n",
      "|           AskReddit|[[Yeah, but, most...| 6.780000000000001|\n",
      "|     personalfinance|[[As, an, entrepr...| 6.614189189189187|\n",
      "|             Animals|[[i, guess, the, ...|2.3121403508771934|\n",
      "|     leagueoflegends|[[Didn't, they, l...| 3.833307240704503|\n",
      "|           AskReddit|[[You, probably, ...| 6.014000000000003|\n",
      "|              videos|[[To, simply, say...| 6.571069725187371|\n",
      "|               trees|[[This, picture, ...|11.169411764705881|\n",
      "|               Games|[[And, that, is, ...| 8.931724137931035|\n",
      "+--------------------+--------------------+------------------+\n",
      "only showing top 20 rows\n",
      "\n"
     ]
    },
    {
     "name": "stderr",
     "output_type": "stream",
     "text": [
      "                                                                                "
     ]
    }
   ],
   "source": [
    "# Show a couple of rows for debug\n",
    "\n",
    "df_with_reading_level.show()"
   ]
  },
  {
   "cell_type": "code",
   "execution_count": 19,
   "id": "2a0aad15-34da-4632-8a9f-1d7b99e7cfe0",
   "metadata": {},
   "outputs": [
    {
     "name": "stderr",
     "output_type": "stream",
     "text": [
      "[Stage 18:=====================================================>(146 + 1) / 147]"
     ]
    },
    {
     "name": "stdout",
     "output_type": "stream",
     "text": [
      "+--------------------+------------------+\n",
      "|           subreddit| Avg_reading_level|\n",
      "+--------------------+------------------+\n",
      "|               anime| 5.998241877742436|\n",
      "|          MensRights| 6.054316177684127|\n",
      "|          QuotesPorn| 6.157130259510808|\n",
      "|        marvelheroes| 5.162728687103215|\n",
      "|              travel| 5.539819842156435|\n",
      "|          MLBTheShow| 5.011567259114122|\n",
      "| UnresolvedMysteries| 5.831162140059496|\n",
      "|            lacrosse|4.7962534036436635|\n",
      "|        SaltLakeCity| 5.181134873517809|\n",
      "|londonfootballmeetup|4.3935855928567635|\n",
      "|           kitchener| 5.345188758573238|\n",
      "|            Whippets| 5.150883939554659|\n",
      "|          costa_rica| 5.346048184160238|\n",
      "|          WahoosTipi| 4.979772219527025|\n",
      "|        couchsurfing| 5.202664446927588|\n",
      "|     youtubecomments| 5.222606696369959|\n",
      "|             DRKCoin| 6.048768757611999|\n",
      "|          television|5.8376548492367215|\n",
      "|    fatpeoplestories| 4.400446158342351|\n",
      "|          treedibles| 5.159450048057807|\n",
      "+--------------------+------------------+\n",
      "only showing top 20 rows\n",
      "\n"
     ]
    },
    {
     "name": "stderr",
     "output_type": "stream",
     "text": [
      "                                                                                "
     ]
    }
   ],
   "source": [
    "df_average_grade = df_with_reading_level.groupBy(\"subreddit\").agg(avg(\"reading_level\").alias(\"Avg_reading_level\"))\n",
    "df_average_grade.take(10)"
   ]
  },
  {
   "cell_type": "code",
   "execution_count": 21,
   "id": "06336e15-a8dc-4c18-9955-90a9b90f83d6",
   "metadata": {
    "scrolled": true
   },
   "outputs": [
    {
     "name": "stdout",
     "output_type": "stream",
     "text": [
      "Top 10 best Subreddits:\n"
     ]
    },
    {
     "name": "stderr",
     "output_type": "stream",
     "text": [
      "                                                                                "
     ]
    },
    {
     "name": "stdout",
     "output_type": "stream",
     "text": [
      "+-----------------+------------------+\n",
      "|subreddit        |avg_reading_level |\n",
      "+-----------------+------------------+\n",
      "|Webkinz          |27.597142857142853|\n",
      "|dsjkfhrewayufiejk|22.820000000000004|\n",
      "|tacocovers       |20.980000000000008|\n",
      "|faget            |20.590000000000007|\n",
      "|spacecats        |20.200000000000006|\n",
      "|italians         |19.27181818181818 |\n",
      "|mainstream_alien |18.170000000000005|\n",
      "|AskRo            |18.075555555555557|\n",
      "|helsinki         |16.916975308641977|\n",
      "|ClannadDiscussion|16.58534314560594 |\n",
      "+-----------------+------------------+\n",
      "\n",
      "Top 10 worst Subreddits:\n"
     ]
    },
    {
     "name": "stderr",
     "output_type": "stream",
     "text": [
      "[Stage 30:=====================================================>(146 + 1) / 147]"
     ]
    },
    {
     "name": "stdout",
     "output_type": "stream",
     "text": [
      "+------------------+-------------------+\n",
      "|subreddit         |avg_reading_level  |\n",
      "+------------------+-------------------+\n",
      "|knightonline      |-3.3999999999999986|\n",
      "|reddos            |-3.3999999999999986|\n",
      "|Chidd             |-3.3999999999999986|\n",
      "|YubaCity          |-3.3999999999999986|\n",
      "|askbroscience     |-3.3999999999999986|\n",
      "|CompetitiveYugioh |-3.3999999999999986|\n",
      "|theoryofpropaganda|-3.3999999999999986|\n",
      "|Ravens_War_Room   |-3.3999999999999986|\n",
      "|ConTalks          |-3.3999999999999986|\n",
      "|discoverynews     |-3.3999999999999986|\n",
      "+------------------+-------------------+\n",
      "\n"
     ]
    },
    {
     "name": "stderr",
     "output_type": "stream",
     "text": [
      "                                                                                "
     ]
    }
   ],
   "source": [
    "# Top 10 subreddits with the worst (lowest) reading level\n",
    "top_10_best = df_average_grade.orderBy(\"avg_reading_level\", ascending=True).limit(10)\n",
    "\n",
    "# Top 10 subreddits with the best (highest) reading level\n",
    "top_10_worst = df_average_grade.orderBy(\"avg_reading_level\", ascending=False).limit(10)\n",
    "\n",
    "print(\"Top 10 best Subreddits:\")\n",
    "top_10_worst.select(\"subreddit\", \"avg_reading_level\").show(truncate=False)\n",
    "\n",
    "print(\"Top 10 worst Subreddits:\")\n",
    "top_10_best.select(\"subreddit\", \"avg_reading_level\").show(truncate=False)"
   ]
  },
  {
   "cell_type": "code",
   "execution_count": 23,
   "id": "1212e91e-5a1f-456f-9d7b-c677dc7f814b",
   "metadata": {},
   "outputs": [
    {
     "name": "stderr",
     "output_type": "stream",
     "text": [
      "WARNING:matplotlib.font_manager:Matplotlib is building the font cache; this may take a moment.\n"
     ]
    },
    {
     "data": {
      "image/png": "[encoded data removed]",
      "text/plain": [
       "<Figure size 640x480 with 1 Axes>"
      ]
     },
     "metadata": {},
     "output_type": "display_data"
    }
   ],
   "source": [
    "pdf = df_with_reading_level.select(\"reading_level\").limit(5000).toPandas()\n",
    "\n",
    "import matplotlib.pyplot as plt\n",
    "# Plot histogram\n",
    "plt.hist(pdf[\"reading_level\"], bins=10, edgecolor=\"black\")\n",
    "plt.xlabel(\"Reading Level\")\n",
    "plt.ylabel(\"Frequency\")\n",
    "plt.title(\"Histogram of Reading Levels\")\n",
    "plt.show()"
   ]
  },
  {
   "cell_type": "code",
   "execution_count": 24,
   "id": "be1dbf2f-6ff0-4a02-a15a-516ddd0f3e82",
   "metadata": {},
   "outputs": [
    {
     "data": {
      "image/png": "[encoded data removed]",
      "text/plain": [
       "<Figure size 640x480 with 1 Axes>"
      ]
     },
     "metadata": {},
     "output_type": "display_data"
    }
   ],
   "source": [
    "\n",
    "# Plot histogram\n",
    "plt.hist(pdf[\"reading_level\"], bins=30, edgecolor=\"black\")\n",
    "plt.xlabel(\"Reading Level\")\n",
    "plt.ylabel(\"Frequency\")\n",
    "plt.title(\"Histogram of Reading Levels\")\n",
    "plt.show()"
   ]
  },
  {
   "cell_type": "code",
   "execution_count": 19,
   "id": "a70270ab-fd7a-492b-9bd9-6ae36558a337",
   "metadata": {},
   "outputs": [],
   "source": [
    "spark_session.stop()"
   ]
  },
  {
   "cell_type": "code",
   "execution_count": null,
   "id": "791cbf03-a7d1-49e6-a79a-d9c1bf72a4a3",
   "metadata": {},
   "outputs": [],
   "source": []
  }
 ],
 "metadata": {
  "kernelspec": {
   "display_name": "Python 3 (ipykernel)",
   "language": "python",
   "name": "python3"
  },
  "language_info": {
   "codemirror_mode": {
    "name": "ipython",
    "version": 3
   },
   "file_extension": ".py",
   "mimetype": "text/x-python",
   "name": "python",
   "nbconvert_exporter": "python",
   "pygments_lexer": "ipython3",
   "version": "3.10.12"
  }
 },
 "nbformat": 4,
 "nbformat_minor": 5
}
